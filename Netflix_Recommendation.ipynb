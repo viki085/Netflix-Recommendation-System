{
 "cells": [
  {
   "cell_type": "markdown",
   "id": "fad6feff",
   "metadata": {},
   "source": [
    "# Netflix Movie Recommendation System"
   ]
  },
  {
   "cell_type": "markdown",
   "id": "2a092e8e",
   "metadata": {},
   "source": [
    "<p>\n",
    "Netflix's competition to improve their reccommendation algorithm\n",
    "\n",
    "Netflix held the Netflix Prize open competition for the best algorithm to predict user ratings for films. The grand prize was $1,000,000 and was won by BellKor's Pragmatic Chaos team. This is the dataset that was used in that competition.\n",
    "\n",
    "https://www.kaggle.com/datasets/netflix-inc/netflix-prize-data\n",
    "</p>"
   ]
  },
  {
   "cell_type": "code",
   "execution_count": 1,
   "id": "a1f3ba7d",
   "metadata": {},
   "outputs": [],
   "source": [
    "from datetime import datetime\n",
    "\n",
    "import pandas as pd\n",
    "import numpy as np\n",
    "import matplotlib.pyplot as plt\n",
    "import seaborn as sns\n",
    "sns.set_style('whitegrid')\n",
    "\n",
    "import os\n",
    "from scipy import sparse\n",
    "from scipy.sparse import csr_matrix\n",
    "\n",
    "from sklearn.decomposition import TruncatedSVD\n",
    "from sklearn.metrics.pairwise import cosine_similarity\n",
    "from sklearn.model_selection import GridSearchCV\n",
    "from sklearn.metrics import r2_score, mean_squared_error, mean_absolute_percentage_error\n",
    "from sklearn.model_selection import train_test_split\n",
    "from sklearn.preprocessing import StandardScaler\n",
    "\n",
    "\n",
    "import torch\n",
    "import torch.nn as nn\n",
    "import torch.nn.functional as F\n",
    "from torch.utils.data import DataLoader, TensorDataset\n",
    "import torch.optim as optim\n",
    "\n",
    "%matplotlib inline"
   ]
  },
  {
   "cell_type": "code",
   "execution_count": 2,
   "id": "9f05af15",
   "metadata": {},
   "outputs": [
    {
     "name": "stdout",
     "output_type": "stream",
     "text": [
      "Reading data from: data/combined_data_1.txt\n",
      "Done.\n",
      "\n",
      "Reading data from: data/combined_data_2.txt\n",
      "Done.\n",
      "\n",
      "Reading data from: data/combined_data_3.txt\n",
      "Done.\n",
      "\n",
      "Reading data from: data/combined_data_4.txt\n",
      "Done.\n",
      "\n"
     ]
    }
   ],
   "source": [
    "# Merging data into a single file\n",
    "\n",
    "rows = list()\n",
    "files = ['data/combined_data_1.txt',\n",
    "         'data/combined_data_2.txt',\n",
    "         'data/combined_data_3.txt',\n",
    "         'data/combined_data_4.txt']\n",
    "\n",
    "for file in files:\n",
    "    print(f\"Reading data from: {file}\")\n",
    "    with open(file, 'r') as f:\n",
    "        movie_id = None\n",
    "        for line in f:\n",
    "            line = line.strip()\n",
    "            if line.endswith(':'):\n",
    "                movie_id = line.replace(':', '')\n",
    "            else:\n",
    "                user_id, rating, date = line.split(',')\n",
    "                rows.append([movie_id, user_id, rating, date])\n",
    "    print(\"Done.\\n\")"
   ]
  },
  {
   "cell_type": "code",
   "execution_count": 3,
   "id": "9f8e27d6",
   "metadata": {},
   "outputs": [
    {
     "data": {
      "text/html": [
       "<div>\n",
       "<style scoped>\n",
       "    .dataframe tbody tr th:only-of-type {\n",
       "        vertical-align: middle;\n",
       "    }\n",
       "\n",
       "    .dataframe tbody tr th {\n",
       "        vertical-align: top;\n",
       "    }\n",
       "\n",
       "    .dataframe thead th {\n",
       "        text-align: right;\n",
       "    }\n",
       "</style>\n",
       "<table border=\"1\" class=\"dataframe\">\n",
       "  <thead>\n",
       "    <tr style=\"text-align: right;\">\n",
       "      <th></th>\n",
       "      <th>movie</th>\n",
       "      <th>user</th>\n",
       "      <th>rating</th>\n",
       "      <th>date</th>\n",
       "    </tr>\n",
       "  </thead>\n",
       "  <tbody>\n",
       "    <tr>\n",
       "      <th>56431994</th>\n",
       "      <td>10341</td>\n",
       "      <td>510180</td>\n",
       "      <td>4</td>\n",
       "      <td>1999-11-11</td>\n",
       "    </tr>\n",
       "    <tr>\n",
       "      <th>9056171</th>\n",
       "      <td>1798</td>\n",
       "      <td>510180</td>\n",
       "      <td>5</td>\n",
       "      <td>1999-11-11</td>\n",
       "    </tr>\n",
       "    <tr>\n",
       "      <th>58698779</th>\n",
       "      <td>10774</td>\n",
       "      <td>510180</td>\n",
       "      <td>3</td>\n",
       "      <td>1999-11-11</td>\n",
       "    </tr>\n",
       "    <tr>\n",
       "      <th>48101611</th>\n",
       "      <td>8651</td>\n",
       "      <td>510180</td>\n",
       "      <td>2</td>\n",
       "      <td>1999-11-11</td>\n",
       "    </tr>\n",
       "    <tr>\n",
       "      <th>81893208</th>\n",
       "      <td>14660</td>\n",
       "      <td>510180</td>\n",
       "      <td>2</td>\n",
       "      <td>1999-11-11</td>\n",
       "    </tr>\n",
       "  </tbody>\n",
       "</table>\n",
       "</div>"
      ],
      "text/plain": [
       "          movie    user rating       date\n",
       "56431994  10341  510180      4 1999-11-11\n",
       "9056171    1798  510180      5 1999-11-11\n",
       "58698779  10774  510180      3 1999-11-11\n",
       "48101611   8651  510180      2 1999-11-11\n",
       "81893208  14660  510180      2 1999-11-11"
      ]
     },
     "execution_count": 3,
     "metadata": {},
     "output_type": "execute_result"
    }
   ],
   "source": [
    "# Create DataFrame\n",
    "df = pd.DataFrame(rows, columns=['movie', 'user', 'rating', 'date'])\n",
    "df.date = pd.to_datetime(df.date)\n",
    "\n",
    "# sort data by date field\n",
    "df.sort_values(by='date', inplace=True)\n",
    "\n",
    "df.head()"
   ]
  },
  {
   "cell_type": "markdown",
   "id": "e795ebd2",
   "metadata": {},
   "source": [
    "## Exploratory Data Analysis"
   ]
  },
  {
   "cell_type": "markdown",
   "id": "481d6e54",
   "metadata": {},
   "source": [
    "#### Dataset Memory Optimization"
   ]
  },
  {
   "cell_type": "code",
   "execution_count": 4,
   "id": "d497be29",
   "metadata": {},
   "outputs": [
    {
     "name": "stdout",
     "output_type": "stream",
     "text": [
      "<class 'pandas.core.frame.DataFrame'>\n",
      "Int64Index: 100480507 entries, 56431994 to 25464092\n",
      "Data columns (total 4 columns):\n",
      " #   Column  Dtype         \n",
      "---  ------  -----         \n",
      " 0   movie   object        \n",
      " 1   user    object        \n",
      " 2   rating  object        \n",
      " 3   date    datetime64[ns]\n",
      "dtypes: datetime64[ns](1), object(3)\n",
      "memory usage: 3.7+ GB\n"
     ]
    }
   ],
   "source": [
    "df.info()"
   ]
  },
  {
   "cell_type": "code",
   "execution_count": 5,
   "id": "fd1739a1",
   "metadata": {},
   "outputs": [],
   "source": [
    "# Convert data types\n",
    "for col in ['movie','user','rating']:\n",
    "    df[col] = df[col].astype('int64')"
   ]
  },
  {
   "cell_type": "code",
   "execution_count": 6,
   "id": "fce4537b",
   "metadata": {},
   "outputs": [],
   "source": [
    "def reduce_mem_usage(df, verbose=True):\n",
    "     \n",
    "    start_mem = df.memory_usage(deep=True).sum() / 1024**2    \n",
    "    for col in ['movie', 'user','rating']:\n",
    "\n",
    "        c_min = df[col].min()\n",
    "        c_max = df[col].max()\n",
    "             \n",
    "        if c_min > np.iinfo(np.int8).min and c_max < np.iinfo(np.int8).max:\n",
    "            df[col] = df[col].astype(np.int8)\n",
    "        elif c_min > np.iinfo(np.int16).min and c_max < np.iinfo(np.int16).max:\n",
    "            df[col] = df[col].astype(np.int16)\n",
    "        elif c_min > np.iinfo(np.int32).min and c_max < np.iinfo(np.int32).max:\n",
    "            df[col] = df[col].astype(np.int32)\n",
    "        else:\n",
    "            df[col] = df[col].astype(np.int64)\n",
    "\n",
    "    end_mem = df.memory_usage(deep=True).sum() / 1024**2\n",
    "    if verbose: print('Mem. usage decreased to {:5.2f} Mb ({:.1f}% reduction)'.format(end_mem, 100 * (start_mem - end_mem) / start_mem))\n",
    "    return df"
   ]
  },
  {
   "cell_type": "code",
   "execution_count": 7,
   "id": "1492af10",
   "metadata": {},
   "outputs": [
    {
     "name": "stdout",
     "output_type": "stream",
     "text": [
      "Mem. usage decreased to 2203.99 Mb (42.5% reduction)\n"
     ]
    }
   ],
   "source": [
    "df = reduce_mem_usage(df)"
   ]
  },
  {
   "cell_type": "code",
   "execution_count": 8,
   "id": "5cb1cfac",
   "metadata": {},
   "outputs": [
    {
     "name": "stdout",
     "output_type": "stream",
     "text": [
      "<class 'pandas.core.frame.DataFrame'>\n",
      "Int64Index: 100480507 entries, 56431994 to 25464092\n",
      "Data columns (total 4 columns):\n",
      " #   Column  Dtype         \n",
      "---  ------  -----         \n",
      " 0   movie   int16         \n",
      " 1   user    int32         \n",
      " 2   rating  int8          \n",
      " 3   date    datetime64[ns]\n",
      "dtypes: datetime64[ns](1), int16(1), int32(1), int8(1)\n",
      "memory usage: 2.2 GB\n"
     ]
    }
   ],
   "source": [
    "df.info()"
   ]
  },
  {
   "cell_type": "code",
   "execution_count": 9,
   "id": "bcd48236",
   "metadata": {},
   "outputs": [
    {
     "data": {
      "text/plain": [
       "(100480507, 4)"
      ]
     },
     "execution_count": 9,
     "metadata": {},
     "output_type": "execute_result"
    }
   ],
   "source": [
    "# size of dataframe\n",
    "df.shape"
   ]
  },
  {
   "cell_type": "code",
   "execution_count": 10,
   "id": "a7e51403",
   "metadata": {},
   "outputs": [
    {
     "name": "stdout",
     "output_type": "stream",
     "text": [
      "Number of Nan Values:0\n"
     ]
    }
   ],
   "source": [
    "# Check for NaN values\n",
    "print(f\"Number of Nan Values:{sum(df.isnull().any())}\")"
   ]
  },
  {
   "cell_type": "code",
   "execution_count": 11,
   "id": "75bcf146",
   "metadata": {},
   "outputs": [
    {
     "name": "stdout",
     "output_type": "stream",
     "text": [
      "Number of Duplicates records:0\n"
     ]
    }
   ],
   "source": [
    "# Check of duplicate records\n",
    "print(f\"Number of Duplicates records:{df.duplicated().sum()}\")"
   ]
  },
  {
   "cell_type": "code",
   "execution_count": 12,
   "id": "09a31cd6",
   "metadata": {},
   "outputs": [
    {
     "data": {
      "text/html": [
       "<div>\n",
       "<style scoped>\n",
       "    .dataframe tbody tr th:only-of-type {\n",
       "        vertical-align: middle;\n",
       "    }\n",
       "\n",
       "    .dataframe tbody tr th {\n",
       "        vertical-align: top;\n",
       "    }\n",
       "\n",
       "    .dataframe thead th {\n",
       "        text-align: right;\n",
       "    }\n",
       "</style>\n",
       "<table border=\"1\" class=\"dataframe\">\n",
       "  <thead>\n",
       "    <tr style=\"text-align: right;\">\n",
       "      <th></th>\n",
       "      <th>movie</th>\n",
       "      <th>user</th>\n",
       "      <th>rating</th>\n",
       "    </tr>\n",
       "  </thead>\n",
       "  <tbody>\n",
       "    <tr>\n",
       "      <th>count</th>\n",
       "      <td>1.004805e+08</td>\n",
       "      <td>1.004805e+08</td>\n",
       "      <td>1.004805e+08</td>\n",
       "    </tr>\n",
       "    <tr>\n",
       "      <th>mean</th>\n",
       "      <td>9.070915e+03</td>\n",
       "      <td>1.322489e+06</td>\n",
       "      <td>3.604290e+00</td>\n",
       "    </tr>\n",
       "    <tr>\n",
       "      <th>std</th>\n",
       "      <td>5.131891e+03</td>\n",
       "      <td>7.645368e+05</td>\n",
       "      <td>1.085219e+00</td>\n",
       "    </tr>\n",
       "    <tr>\n",
       "      <th>min</th>\n",
       "      <td>1.000000e+00</td>\n",
       "      <td>6.000000e+00</td>\n",
       "      <td>1.000000e+00</td>\n",
       "    </tr>\n",
       "    <tr>\n",
       "      <th>25%</th>\n",
       "      <td>4.677000e+03</td>\n",
       "      <td>6.611980e+05</td>\n",
       "      <td>3.000000e+00</td>\n",
       "    </tr>\n",
       "    <tr>\n",
       "      <th>50%</th>\n",
       "      <td>9.051000e+03</td>\n",
       "      <td>1.319012e+06</td>\n",
       "      <td>4.000000e+00</td>\n",
       "    </tr>\n",
       "    <tr>\n",
       "      <th>75%</th>\n",
       "      <td>1.363500e+04</td>\n",
       "      <td>1.984455e+06</td>\n",
       "      <td>4.000000e+00</td>\n",
       "    </tr>\n",
       "    <tr>\n",
       "      <th>max</th>\n",
       "      <td>1.777000e+04</td>\n",
       "      <td>2.649429e+06</td>\n",
       "      <td>5.000000e+00</td>\n",
       "    </tr>\n",
       "  </tbody>\n",
       "</table>\n",
       "</div>"
      ],
      "text/plain": [
       "              movie          user        rating\n",
       "count  1.004805e+08  1.004805e+08  1.004805e+08\n",
       "mean   9.070915e+03  1.322489e+06  3.604290e+00\n",
       "std    5.131891e+03  7.645368e+05  1.085219e+00\n",
       "min    1.000000e+00  6.000000e+00  1.000000e+00\n",
       "25%    4.677000e+03  6.611980e+05  3.000000e+00\n",
       "50%    9.051000e+03  1.319012e+06  4.000000e+00\n",
       "75%    1.363500e+04  1.984455e+06  4.000000e+00\n",
       "max    1.777000e+04  2.649429e+06  5.000000e+00"
      ]
     },
     "execution_count": 12,
     "metadata": {},
     "output_type": "execute_result"
    }
   ],
   "source": [
    "df.describe()"
   ]
  },
  {
   "cell_type": "code",
   "execution_count": 13,
   "id": "dd672b24",
   "metadata": {},
   "outputs": [
    {
     "name": "stdout",
     "output_type": "stream",
     "text": [
      "Total no of ratings : 100480507\n",
      "Total No of Users   : 480189\n",
      "Total No of movies  : 17770\n",
      "Total No of ratings per user : count    480189.000000\n",
      "mean        209.251997\n",
      "std         302.339155\n",
      "min           1.000000\n",
      "25%          39.000000\n",
      "50%          96.000000\n",
      "75%         259.000000\n",
      "max       17653.000000\n",
      "Name: rating, dtype: float64\n",
      "Total No of ratings per movie : count     17770.000000\n",
      "mean       5654.502364\n",
      "std       16909.673269\n",
      "min           3.000000\n",
      "25%         192.000000\n",
      "50%         561.000000\n",
      "75%        2667.750000\n",
      "max      232944.000000\n",
      "Name: rating, dtype: float64\n"
     ]
    }
   ],
   "source": [
    "print(\"Total no of ratings :\",df.shape[0])\n",
    "print(\"Total No of Users   :\", len(np.unique(df.user)))\n",
    "print(\"Total No of movies  :\", len(np.unique(df.movie)))\n",
    "print(\"Total No of ratings per user :\", df.groupby('user')['rating'].count().describe())\n",
    "print(\"Total No of ratings per movie :\", df.groupby('movie')['rating'].count().describe())"
   ]
  },
  {
   "cell_type": "code",
   "execution_count": 14,
   "id": "24a6acad",
   "metadata": {},
   "outputs": [
    {
     "name": "stdout",
     "output_type": "stream",
     "text": [
      "Distribution of ratings:\n"
     ]
    },
    {
     "data": {
      "image/png": "[encoded data removed]",
      "text/plain": [
       "<Figure size 1000x500 with 1 Axes>"
      ]
     },
     "metadata": {},
     "output_type": "display_data"
    }
   ],
   "source": [
    "print(\"Distribution of ratings:\")\n",
    "df.rating.value_counts().sort_index().plot(kind='bar', figsize=(10, 5), color = ['red', 'orange', 'yellow', 'green', 'blue'])\n",
    "plt.title('Distribution of Ratings')\n",
    "plt.xlabel('Rating')\n",
    "plt.ylabel('Count')\n",
    "# Format y-axis ticks to millions\n",
    "yticks = plt.yticks()[0]   # Get current y-tick\n",
    "plt.yticks(yticks, [f'{int(y/1e6)}M' for y in yticks])\n",
    "plt.show()"
   ]
  },
  {
   "cell_type": "markdown",
   "id": "8c29544e",
   "metadata": {},
   "source": [
    "**Observation:**\n",
    "\n",
    "1. 1 star ratings are the least frequent (under 5 million).\n",
    "2. 4 and 3 star ratings seem to be the most common."
   ]
  },
  {
   "cell_type": "code",
   "execution_count": 15,
   "id": "57b42a01",
   "metadata": {},
   "outputs": [
    {
     "data": {
      "image/png": "[encoded data removed]",
      "text/plain": [
       "<Figure size 640x480 with 1 Axes>"
      ]
     },
     "metadata": {},
     "output_type": "display_data"
    }
   ],
   "source": [
    "ax = df.resample('m', on='date')['rating'].count().plot()\n",
    "ax.set_title('No of ratings per month (Training data)')\n",
    "plt.xlabel('Month')\n",
    "plt.ylabel('No of ratings(per month)')\n",
    "yticks = plt.yticks()[0]\n",
    "plt.yticks(yticks, [f'{int(y/1e6)}M' for y in yticks])\n",
    "plt.show()"
   ]
  },
  {
   "cell_type": "markdown",
   "id": "8db993c3",
   "metadata": {},
   "source": [
    "**Observation:**\n",
    "\n",
    "The trend reflects the growing popularity and user engagement with Netflix's platform during the early 2000s. The dataset likely ends before 2006, causing the sudden drop at the end."
   ]
  },
  {
   "cell_type": "code",
   "execution_count": 16,
   "id": "e0cc515b",
   "metadata": {},
   "outputs": [
    {
     "data": {
      "text/plain": [
       "Text(0.5, 1.0, 'PDF')"
      ]
     },
     "execution_count": 16,
     "metadata": {},
     "output_type": "execute_result"
    },
    {
     "data": {
      "image/png": "[encoded data removed]",
      "text/plain": [
       "<Figure size 1000x500 with 1 Axes>"
      ]
     },
     "metadata": {},
     "output_type": "display_data"
    }
   ],
   "source": [
    "number_of_rating_per_user = df.groupby(by='user')['rating'].count().sort_values(ascending=False)\n",
    "\n",
    "plt.figure(figsize=(10, 5))\n",
    "sns.kdeplot(number_of_rating_per_user, fill=True)\n",
    "plt.xlabel('No of ratings by user')\n",
    "plt.title(\"PDF\")"
   ]
  },
  {
   "cell_type": "markdown",
   "id": "28f5f624",
   "metadata": {},
   "source": [
    "**Observation:**\n",
    "\n",
    "The distribution is heavily right skewed with 25% of the users rating more than 259 times."
   ]
  },
  {
   "cell_type": "code",
   "execution_count": 17,
   "id": "6ed2dcc2",
   "metadata": {},
   "outputs": [
    {
     "data": {
      "image/png": "[encoded data removed]",
      "text/plain": [
       "<Figure size 1000x500 with 1 Axes>"
      ]
     },
     "metadata": {},
     "output_type": "display_data"
    }
   ],
   "source": [
    "no_of_ratings_per_movie = df.groupby(by='movie')['rating'].count().sort_values(ascending=False)\n",
    "\n",
    "fig = plt.figure(figsize=(10, 5))\n",
    "plt.plot(no_of_ratings_per_movie.values)\n",
    "plt.title('No of Ratings per Movie')\n",
    "plt.xlabel('Movie')\n",
    "plt.ylabel('No of Users who rated a movie')\n",
    "plt.xticks([])\n",
    "plt.show()"
   ]
  },
  {
   "cell_type": "markdown",
   "id": "8492f857",
   "metadata": {},
   "source": [
    "**Observation:**\n",
    "\n",
    "1. Around 25% of the movies have been rated more than 2667 times.\n",
    "2. The maximum number of ratings a movie has recieved is 232944.\n",
    "3. A movie has revieved atleast 3 ratings."
   ]
  },
  {
   "cell_type": "markdown",
   "id": "45f43582",
   "metadata": {},
   "source": [
    "### Split data in train & test"
   ]
  },
  {
   "cell_type": "code",
   "execution_count": 18,
   "id": "fb2ae9dc",
   "metadata": {},
   "outputs": [],
   "source": [
    "# 80% of the data will be used for training and 20% for testing\n",
    "split = int(df.shape[0]*0.80)\n",
    "\n",
    "train_df = df.iloc[:split] \n",
    "test_df = df.iloc[split:] "
   ]
  },
  {
   "cell_type": "code",
   "execution_count": 19,
   "id": "339d635e",
   "metadata": {},
   "outputs": [
    {
     "name": "stdout",
     "output_type": "stream",
     "text": [
      "Training data \n",
      "--------------------------------------------------\n",
      "Total no of ratings : 80384405\n",
      "Total No of Users   : 405041\n",
      "Total No of movies  : 17424\n"
     ]
    }
   ],
   "source": [
    "print(\"Training data \")\n",
    "print(\"-\"*50)\n",
    "print(\"Total no of ratings :\",train_df.shape[0])\n",
    "print(\"Total No of Users   :\", len(np.unique(train_df.user)))\n",
    "print(\"Total No of movies  :\", len(np.unique(train_df.movie)))"
   ]
  },
  {
   "cell_type": "code",
   "execution_count": 20,
   "id": "72973870",
   "metadata": {},
   "outputs": [
    {
     "name": "stdout",
     "output_type": "stream",
     "text": [
      "Test data \n",
      "--------------------------------------------------\n",
      "\n",
      "Total no of ratings : 20096102\n",
      "Total No of Users   : 349312\n",
      "Total No of movies  : 17757\n"
     ]
    }
   ],
   "source": [
    "print(\"Test data \")\n",
    "print(\"-\"*50)\n",
    "print(\"\\nTotal no of ratings :\",test_df.shape[0])\n",
    "print(\"Total No of Users   :\", len(np.unique(test_df.user)))\n",
    "print(\"Total No of movies  :\", len(np.unique(test_df.movie)))"
   ]
  },
  {
   "cell_type": "code",
   "execution_count": 21,
   "id": "619a8d40",
   "metadata": {},
   "outputs": [
    {
     "name": "stdout",
     "output_type": "stream",
     "text": [
      "Shape of the Sparse Matrix for Train data:  (2649430, 17771)\n"
     ]
    }
   ],
   "source": [
    "# Create sparse matrix for training data\n",
    "train_sparse_matrix = sparse.csr_matrix((train_df.rating.values, (train_df.user.values,\n",
    "                                               train_df.movie.values)),)\n",
    "\n",
    "sparse.save_npz(\"train_sparse_matrix.npz\", train_sparse_matrix)\n",
    "\n",
    "print('Shape of the Sparse Matrix for Train data: ',train_sparse_matrix.shape)"
   ]
  },
  {
   "cell_type": "code",
   "execution_count": 22,
   "id": "7a60d687",
   "metadata": {},
   "outputs": [
    {
     "name": "stdout",
     "output_type": "stream",
     "text": [
      "Shape of the Sparse Matrix for Test data:  (2649430, 17771)\n"
     ]
    }
   ],
   "source": [
    "# Create sparse matrix for test data\n",
    "test_sparse_matrix = sparse.csr_matrix((test_df.rating.values, (test_df.user.values,\n",
    "                                               test_df.movie.values)),)\n",
    "\n",
    "sparse.save_npz(\"test_sparse_matrix.npz\", test_sparse_matrix)\n",
    "\n",
    "print('Shape of the Sparse Matrix for Test data: ',test_sparse_matrix.shape)"
   ]
  },
  {
   "cell_type": "code",
   "execution_count": null,
   "id": "3624f91c",
   "metadata": {},
   "outputs": [],
   "source": [
    "# Get top 10k users that have cummulatively rated all the movies\n",
    "# top_10k_users = train_df.groupby('user')['rating'].count().sort_values(ascending=False).head(10000).index.tolist()\n",
    "# top_10k_movies = train_df.groupby('movie')['rating'].count().sort_values(ascending=False).head(10000).index.tolist()\n",
    "# top_10k_users = train_df[train_df['user'].isin(top_10k_users)]['user'].unique()\n",
    "# top_10k_movies = train_df[train_df['movie'].isin(top_10k_movies)]['movie'].unique()\n"
   ]
  },
  {
   "cell_type": "code",
   "execution_count": 23,
   "id": "17b593e9",
   "metadata": {},
   "outputs": [
    {
     "data": {
      "text/plain": [
       "(2649430, 17771)"
      ]
     },
     "execution_count": 23,
     "metadata": {},
     "output_type": "execute_result"
    }
   ],
   "source": [
    "train_sparse_matrix.shape "
   ]
  },
  {
   "cell_type": "markdown",
   "id": "9fdf94be",
   "metadata": {},
   "source": [
    "#### Observation:\n",
    "\n",
    "We are sampling a small subset of data from the sparse matrices as the time needed to compute user-user similarity is high and would need days to run on my desktop. This might affect the model performance.  "
   ]
  },
  {
   "cell_type": "code",
   "execution_count": 24,
   "id": "37e4a33f",
   "metadata": {},
   "outputs": [],
   "source": [
    "# Create a function to compute movie similarity using cosine similarity \n",
    "def get_sample_sparse_matrix(sparse_matrix, num_users, num_movies, path, verbose=True):\n",
    "    \"\"\"\n",
    "    Generated from ChatGPT:\n",
    "    Samples a subset of the sparse_matrix with given number of users and movies,\n",
    "    saves it to disk if not already present, and returns the sampled matrix.\n",
    "    \"\"\"\n",
    "    row_ind, col_ind, data = sparse.find(sparse_matrix)\n",
    "    \n",
    "    if verbose:\n",
    "        print(f\"Original Matrix: Users = {sparse_matrix.shape[0]}, Movies = {sparse_matrix.shape[1]}\")\n",
    "        print(f\"Total Ratings: {len(data)}\\n\")\n",
    "\n",
    "    # Ensure reproducibility\n",
    "    np.random.seed(15)\n",
    "\n",
    "    # Sample user and movie indices\n",
    "    sampled_users = np.random.choice(np.unique(row_ind), num_users, replace=False)\n",
    "    sampled_movies = np.random.choice(np.unique(col_ind), num_movies, replace=False)\n",
    "\n",
    "    # Create mask to filter the data\n",
    "    mask = np.isin(row_ind, sampled_users) & np.isin(col_ind, sampled_movies)\n",
    "\n",
    "    # Remap user/movie indices to 0-based dense matrix\n",
    "    user_map = {user: i for i, user in enumerate(sorted(sampled_users))}\n",
    "    movie_map = {movie: j for j, movie in enumerate(sorted(sampled_movies))}\n",
    "\n",
    "    remapped_rows = np.array([user_map[u] for u in row_ind[mask]])\n",
    "    remapped_cols = np.array([movie_map[m] for m in col_ind[mask]])\n",
    "    sampled_data = data[mask]\n",
    "\n",
    "    # Build sparse matrix\n",
    "    sampled_matrix = sparse.csr_matrix((sampled_data, (remapped_rows, remapped_cols)),\n",
    "                                       shape=(num_users, num_movies))\n",
    "\n",
    "    sparse.save_npz(path, sampled_matrix)\n",
    "    \n",
    "    if verbose:\n",
    "        print(f\"Sampled Matrix: Users = {num_users}, Movies = {num_movies}\")\n",
    "        print(f\"Sampled Ratings: {len(sampled_data)}\")\n",
    "        print(\"Saved to disk.\\n\")\n",
    "\n",
    "    return sampled_matrix\n"
   ]
  },
  {
   "cell_type": "code",
   "execution_count": 42,
   "id": "99389ca8",
   "metadata": {},
   "outputs": [
    {
     "name": "stdout",
     "output_type": "stream",
     "text": [
      "Original Matrix: Users = 2649430, Movies = 17771\n",
      "Total Ratings: 80384405\n",
      "\n",
      "Sampled Matrix: Users = 10000, Movies = 5000\n",
      "Sampled Ratings: 584337\n",
      "Saved to disk.\n",
      "\n"
     ]
    },
    {
     "data": {
      "text/plain": [
       "(10000, 5000)"
      ]
     },
     "execution_count": 42,
     "metadata": {},
     "output_type": "execute_result"
    }
   ],
   "source": [
    "path = \"data/sample_train_sparse_matrix.npz\"\n",
    "if os.path.isfile(path):\n",
    "    print(\"File Available\")\n",
    "    sample_train_sparse_matrix = sparse.load_npz(path)\n",
    "    print(\"Loaded...\")\n",
    "else:\n",
    "    # get 10k users and 1k movies from the train sparse matrix\n",
    "    sample_train_sparse_matrix = get_sample_sparse_matrix(train_sparse_matrix, num_users=10000, num_movies=5000,\n",
    "                                             path = path)\n",
    "    \n",
    "sample_train_sparse_matrix.shape "
   ]
  },
  {
   "cell_type": "code",
   "execution_count": 43,
   "id": "22ac764d",
   "metadata": {},
   "outputs": [
    {
     "name": "stdout",
     "output_type": "stream",
     "text": [
      "Original Matrix: Users = 2649430, Movies = 17771\n",
      "Total Ratings: 20096102\n",
      "\n",
      "Sampled Matrix: Users = 5000, Movies = 500\n",
      "Sampled Ratings: 7333\n",
      "Saved to disk.\n",
      "\n"
     ]
    },
    {
     "data": {
      "text/plain": [
       "(5000, 500)"
      ]
     },
     "execution_count": 43,
     "metadata": {},
     "output_type": "execute_result"
    }
   ],
   "source": [
    "path = \"data/sample_test_sparse_matrix.npz\"\n",
    "if os.path.isfile(path):\n",
    "    print(\"File Available\")\n",
    "    sample_test_sparse_matrix = sparse.load_npz(path)\n",
    "    print(\"Loaded...\")\n",
    "else:\n",
    "    # get 5k users and 500 movies from the test sparse matrix \n",
    "    sample_test_sparse_matrix = get_sample_sparse_matrix(test_sparse_matrix, num_users=5000, num_movies=500,\n",
    "                                             path = path)\n",
    "\n",
    "sample_test_sparse_matrix.shape "
   ]
  },
  {
   "cell_type": "markdown",
   "id": "faae5a3b",
   "metadata": {},
   "source": [
    "### Calculation the average ratings of all the reviews for imputation."
   ]
  },
  {
   "cell_type": "code",
   "execution_count": 44,
   "id": "7d6ea83f",
   "metadata": {},
   "outputs": [
    {
     "data": {
      "text/plain": [
       "{'global': 3.590777239846185}"
      ]
     },
     "execution_count": 44,
     "metadata": {},
     "output_type": "execute_result"
    }
   ],
   "source": [
    "sample_train_averages = dict()\n",
    "\n",
    "# get the global average of ratings in our train set.\n",
    "global_average = sample_train_sparse_matrix.sum()/sample_train_sparse_matrix.count_nonzero()\n",
    "sample_train_averages['global'] = global_average\n",
    "\n",
    "sample_train_averages "
   ]
  },
  {
   "cell_type": "code",
   "execution_count": 45,
   "id": "a1a18c05",
   "metadata": {},
   "outputs": [
    {
     "data": {
      "text/plain": [
       "(array([0.004 , 0.0368, 0.0536, 0.0082, 0.0128, 0.0208, 0.0716, 0.004 ,\n",
       "        0.0054, 0.0158]),\n",
       " array([8.200e-03, 2.600e-03, 2.800e-03, 2.400e-03, 1.630e-02, 3.000e-04,\n",
       "        5.200e-03, 9.277e-01, 5.000e-03, 4.870e-02]))"
      ]
     },
     "execution_count": 45,
     "metadata": {},
     "output_type": "execute_result"
    }
   ],
   "source": [
    "# Find average rating for each user and movie in the sampled train set\n",
    "user_averages = sample_train_sparse_matrix.mean(axis=1).A1\n",
    "movie_averages = sample_train_sparse_matrix.mean(axis=0).A1\n",
    "sample_train_averages['user'] = user_averages\n",
    "sample_train_averages['movie'] = movie_averages\n",
    "sample_train_averages['user'][:10], sample_train_averages['movie'][:10]"
   ]
  },
  {
   "cell_type": "code",
   "execution_count": null,
   "id": "52f2fed5",
   "metadata": {},
   "outputs": [],
   "source": []
  },
  {
   "cell_type": "code",
   "execution_count": 46,
   "id": "49b3d8a6",
   "metadata": {},
   "outputs": [
    {
     "name": "stdout",
     "output_type": "stream",
     "text": [
      "\n",
      " No of ratings in Our Sampled train matrix is : 584337\n",
      "\n",
      "\n",
      " No of ratings in Our Sampled test  matrix is : 7333\n",
      "\n"
     ]
    }
   ],
   "source": [
    "print('\\n No of ratings in Our Sampled train matrix is : {}\\n'.format(sample_train_sparse_matrix.count_nonzero()))\n",
    "print('\\n No of ratings in Our Sampled test  matrix is : {}\\n'.format(sample_test_sparse_matrix.count_nonzero()))"
   ]
  },
  {
   "cell_type": "code",
   "execution_count": 47,
   "id": "e1889233",
   "metadata": {},
   "outputs": [],
   "source": [
    "# get users, movies and ratings from our samples train sparse matrix\n",
    "sample_train_users, sample_train_movies, sample_train_ratings = sparse.find(sample_train_sparse_matrix)"
   ]
  },
  {
   "cell_type": "markdown",
   "id": "63e2e5f0",
   "metadata": {},
   "source": [
    "##### Combining user-user and movie-movie collaborative filtering from the sample sparse matrix to create new features like,  global average rating, ratings from top 5 similar user, ratings of the top 5 similar movies, average rating of the user, average rating of the movie.\n"
   ]
  },
  {
   "cell_type": "code",
   "execution_count": 48,
   "id": "4d763608",
   "metadata": {},
   "outputs": [
    {
     "name": "stdout",
     "output_type": "stream",
     "text": [
      "Preparing 584337 tuples for the dataset..\n",
      "\n",
      "Done for 10000 rows----- 0:03:54.652786\n",
      "Done for 20000 rows----- 0:07:45.214962\n",
      "Done for 30000 rows----- 0:11:37.319098\n",
      "Done for 40000 rows----- 0:15:33.820977\n",
      "Done for 50000 rows----- 0:19:25.543669\n",
      "Done for 60000 rows----- 0:23:18.445844\n",
      "Done for 70000 rows----- 0:27:14.740338\n",
      "Done for 80000 rows----- 0:31:07.347077\n",
      "Done for 90000 rows----- 0:35:02.436676\n",
      "Done for 100000 rows----- 0:38:58.668143\n",
      "Done for 110000 rows----- 0:42:49.147544\n",
      "Done for 120000 rows----- 0:46:45.617455\n",
      "Done for 130000 rows----- 0:50:40.300914\n",
      "Done for 140000 rows----- 0:54:31.340947\n",
      "Done for 150000 rows----- 0:58:27.117297\n",
      "Done for 160000 rows----- 1:02:22.250037\n",
      "Done for 170000 rows----- 1:06:15.966512\n",
      "Done for 180000 rows----- 1:10:12.966336\n",
      "Done for 190000 rows----- 1:14:07.827514\n",
      "Done for 200000 rows----- 1:18:13.302233\n",
      "Done for 210000 rows----- 1:22:26.830927\n",
      "Done for 220000 rows----- 1:26:26.032555\n",
      "Done for 230000 rows----- 1:30:17.448718\n",
      "Done for 240000 rows----- 1:34:10.299958\n",
      "Done for 250000 rows----- 1:38:02.350643\n",
      "Done for 260000 rows----- 1:42:11.852725\n",
      "Done for 270000 rows----- 1:46:29.064259\n",
      "Done for 280000 rows----- 1:50:23.215638\n",
      "Done for 290000 rows----- 1:54:14.549590\n",
      "Done for 300000 rows----- 1:58:08.299442\n",
      "Done for 310000 rows----- 2:02:00.499269\n",
      "Done for 320000 rows----- 2:05:51.326037\n",
      "Done for 330000 rows----- 2:09:46.314893\n",
      "Done for 340000 rows----- 2:13:37.582029\n",
      "Done for 350000 rows----- 2:17:27.865182\n",
      "Done for 360000 rows----- 2:21:21.823573\n",
      "Done for 370000 rows----- 2:25:12.320998\n",
      "Done for 380000 rows----- 2:29:06.064648\n",
      "Done for 390000 rows----- 2:32:59.231404\n",
      "Done for 400000 rows----- 2:36:47.384618\n",
      "Done for 410000 rows----- 2:40:39.549520\n",
      "Done for 420000 rows----- 2:44:32.080579\n",
      "Done for 430000 rows----- 2:48:20.247059\n",
      "Done for 440000 rows----- 2:52:11.363889\n",
      "Done for 450000 rows----- 2:56:02.346700\n",
      "Done for 460000 rows----- 2:59:51.396510\n",
      "Done for 470000 rows----- 3:03:46.413044\n",
      "Done for 480000 rows----- 3:07:35.229498\n",
      "Done for 490000 rows----- 3:11:26.429311\n",
      "Done for 500000 rows----- 3:15:19.112792\n",
      "Done for 510000 rows----- 3:19:06.931134\n",
      "Done for 520000 rows----- 3:22:57.395856\n",
      "Done for 530000 rows----- 3:26:49.195307\n",
      "Done for 540000 rows----- 3:30:36.361735\n",
      "Done for 550000 rows----- 3:34:27.113695\n",
      "Done for 560000 rows----- 3:38:17.496726\n",
      "Done for 570000 rows----- 3:42:05.994540\n",
      "Done for 580000 rows----- 3:45:55.528026\n",
      "3:47:31.761296\n"
     ]
    }
   ],
   "source": [
    "start = datetime.now()\n",
    "if os.path.isfile('data/reg_train.csv'):\n",
    "    print(\"File exists\")\n",
    "else:\n",
    "    print(f\"Preparing {len(sample_train_ratings)} tuples for the dataset..\\n\")\n",
    "    with open('data/reg_train.csv', mode='w') as reg_data_file:\n",
    "        count = 0\n",
    "        for (user, movie, rating)  in zip(sample_train_users, sample_train_movies, sample_train_ratings):\n",
    "\n",
    "\n",
    "            # compute the similar Users of the \"user\"\n",
    "            user_sim = cosine_similarity(sample_train_sparse_matrix[user], sample_train_sparse_matrix).ravel()\n",
    "            top_sim_users = user_sim.argsort()[::-1][1:] # we are ignoring 'The User' from its similar users.\n",
    "            # get the ratings of most similar users for this movie\n",
    "            top_ratings = sample_train_sparse_matrix[top_sim_users, movie].toarray().ravel()\n",
    "            # we will make it's length \"5\" by adding movie averages to .\n",
    "            top_sim_users_ratings = list(top_ratings[top_ratings != 0][:5])\n",
    "            top_sim_users_ratings.extend([sample_train_averages['movie'][movie]]*(5 - len(top_sim_users_ratings)))\n",
    "\n",
    "\n",
    "            # compute the similar movies of the \"movie\"\n",
    "            movie_sim = cosine_similarity(sample_train_sparse_matrix[:,movie].T, sample_train_sparse_matrix.T).ravel()\n",
    "            top_sim_movies = movie_sim.argsort()[::-1][1:] # we are ignoring 'The User' from its similar users.\n",
    "            # get the ratings of most similar movie rated by this user..\n",
    "            top_ratings = sample_train_sparse_matrix[user, top_sim_movies].toarray().ravel()\n",
    "            # we will make it's length \"5\" by adding user averages to.\n",
    "            top_sim_movies_ratings = list(top_ratings[top_ratings != 0][:5])\n",
    "            top_sim_movies_ratings.extend([sample_train_averages['user'][user]]*(5-len(top_sim_movies_ratings)))\n",
    "\n",
    "            # Now we have 5 ratings of similar users for this movie and 5 ratings of similar movies rated by this user.\n",
    "            # We will create a row of features for this user-movie pair.\n",
    "            row = list()\n",
    "            row.append(user)\n",
    "            row.append(movie)\n",
    "            # Now add the other features to this data...\n",
    "            row.append(sample_train_averages['global']) # first feature\n",
    "            # next 5 features are similar_users \"movie\" ratings\n",
    "            row.extend(top_sim_users_ratings)\n",
    "            # next 5 features are \"user\" ratings for similar_movies\n",
    "            row.extend(top_sim_movies_ratings)\n",
    "            # Avg_user rating\n",
    "            row.append(sample_train_averages['user'][user])\n",
    "            # Avg_movie rating\n",
    "            row.append(sample_train_averages['movie'][movie])\n",
    "\n",
    "            # finalley, The actual Rating of this user-movie pair...\n",
    "            row.append(rating)\n",
    "            count = count + 1\n",
    "\n",
    "            # add rows to the file opened..\n",
    "            reg_data_file.write(','.join(map(str, row)))\n",
    "            reg_data_file.write('\\n')\n",
    "            if (count)%10000 == 0:\n",
    "                # print(','.join(map(str, row)))\n",
    "                print(\"Done for {} rows----- {}\".format(count, datetime.now() - start))\n",
    "\n",
    "print(datetime.now() - start)"
   ]
  },
  {
   "cell_type": "markdown",
   "id": "7a0586fd",
   "metadata": {},
   "source": [
    "**Observation:** The time time taken to compute similarty matices for 10k users and 5k movies is around 4 hours."
   ]
  },
  {
   "cell_type": "code",
   "execution_count": 49,
   "id": "68729eb0",
   "metadata": {},
   "outputs": [
    {
     "data": {
      "text/html": [
       "<div>\n",
       "<style scoped>\n",
       "    .dataframe tbody tr th:only-of-type {\n",
       "        vertical-align: middle;\n",
       "    }\n",
       "\n",
       "    .dataframe tbody tr th {\n",
       "        vertical-align: top;\n",
       "    }\n",
       "\n",
       "    .dataframe thead th {\n",
       "        text-align: right;\n",
       "    }\n",
       "</style>\n",
       "<table border=\"1\" class=\"dataframe\">\n",
       "  <thead>\n",
       "    <tr style=\"text-align: right;\">\n",
       "      <th></th>\n",
       "      <th>user</th>\n",
       "      <th>movie</th>\n",
       "      <th>global_avg</th>\n",
       "      <th>similar_user1</th>\n",
       "      <th>similar_user2</th>\n",
       "      <th>similar_user3</th>\n",
       "      <th>similar_user4</th>\n",
       "      <th>similar_user5</th>\n",
       "      <th>similar_movie_rating1</th>\n",
       "      <th>similar_movie_rating2</th>\n",
       "      <th>similar_movie_rating3</th>\n",
       "      <th>similar_movie_rating4</th>\n",
       "      <th>similar_movie_rating5</th>\n",
       "      <th>user_avg</th>\n",
       "      <th>movie_avg</th>\n",
       "      <th>rating</th>\n",
       "    </tr>\n",
       "  </thead>\n",
       "  <tbody>\n",
       "    <tr>\n",
       "      <th>0</th>\n",
       "      <td>1971</td>\n",
       "      <td>0</td>\n",
       "      <td>3.590777</td>\n",
       "      <td>5.0</td>\n",
       "      <td>5.0</td>\n",
       "      <td>5.0</td>\n",
       "      <td>5.0</td>\n",
       "      <td>5.0</td>\n",
       "      <td>5.0</td>\n",
       "      <td>3.0</td>\n",
       "      <td>3.0</td>\n",
       "      <td>3.0</td>\n",
       "      <td>3.0</td>\n",
       "      <td>0.0604</td>\n",
       "      <td>0.0082</td>\n",
       "      <td>3</td>\n",
       "    </tr>\n",
       "    <tr>\n",
       "      <th>1</th>\n",
       "      <td>2334</td>\n",
       "      <td>0</td>\n",
       "      <td>3.590777</td>\n",
       "      <td>5.0</td>\n",
       "      <td>5.0</td>\n",
       "      <td>3.0</td>\n",
       "      <td>5.0</td>\n",
       "      <td>5.0</td>\n",
       "      <td>5.0</td>\n",
       "      <td>4.0</td>\n",
       "      <td>3.0</td>\n",
       "      <td>4.0</td>\n",
       "      <td>5.0</td>\n",
       "      <td>0.0456</td>\n",
       "      <td>0.0082</td>\n",
       "      <td>5</td>\n",
       "    </tr>\n",
       "    <tr>\n",
       "      <th>2</th>\n",
       "      <td>2793</td>\n",
       "      <td>0</td>\n",
       "      <td>3.590777</td>\n",
       "      <td>3.0</td>\n",
       "      <td>5.0</td>\n",
       "      <td>5.0</td>\n",
       "      <td>5.0</td>\n",
       "      <td>5.0</td>\n",
       "      <td>5.0</td>\n",
       "      <td>5.0</td>\n",
       "      <td>5.0</td>\n",
       "      <td>5.0</td>\n",
       "      <td>5.0</td>\n",
       "      <td>0.0248</td>\n",
       "      <td>0.0082</td>\n",
       "      <td>5</td>\n",
       "    </tr>\n",
       "    <tr>\n",
       "      <th>3</th>\n",
       "      <td>2832</td>\n",
       "      <td>0</td>\n",
       "      <td>3.590777</td>\n",
       "      <td>1.0</td>\n",
       "      <td>5.0</td>\n",
       "      <td>5.0</td>\n",
       "      <td>3.0</td>\n",
       "      <td>5.0</td>\n",
       "      <td>4.0</td>\n",
       "      <td>3.0</td>\n",
       "      <td>4.0</td>\n",
       "      <td>3.0</td>\n",
       "      <td>4.0</td>\n",
       "      <td>0.2026</td>\n",
       "      <td>0.0082</td>\n",
       "      <td>5</td>\n",
       "    </tr>\n",
       "    <tr>\n",
       "      <th>4</th>\n",
       "      <td>3035</td>\n",
       "      <td>0</td>\n",
       "      <td>3.590777</td>\n",
       "      <td>5.0</td>\n",
       "      <td>5.0</td>\n",
       "      <td>5.0</td>\n",
       "      <td>5.0</td>\n",
       "      <td>5.0</td>\n",
       "      <td>5.0</td>\n",
       "      <td>5.0</td>\n",
       "      <td>5.0</td>\n",
       "      <td>5.0</td>\n",
       "      <td>5.0</td>\n",
       "      <td>0.0092</td>\n",
       "      <td>0.0082</td>\n",
       "      <td>5</td>\n",
       "    </tr>\n",
       "  </tbody>\n",
       "</table>\n",
       "</div>"
      ],
      "text/plain": [
       "   user  movie  global_avg  similar_user1  similar_user2  similar_user3  \\\n",
       "0  1971      0    3.590777            5.0            5.0            5.0   \n",
       "1  2334      0    3.590777            5.0            5.0            3.0   \n",
       "2  2793      0    3.590777            3.0            5.0            5.0   \n",
       "3  2832      0    3.590777            1.0            5.0            5.0   \n",
       "4  3035      0    3.590777            5.0            5.0            5.0   \n",
       "\n",
       "   similar_user4  similar_user5  similar_movie_rating1  similar_movie_rating2  \\\n",
       "0            5.0            5.0                    5.0                    3.0   \n",
       "1            5.0            5.0                    5.0                    4.0   \n",
       "2            5.0            5.0                    5.0                    5.0   \n",
       "3            3.0            5.0                    4.0                    3.0   \n",
       "4            5.0            5.0                    5.0                    5.0   \n",
       "\n",
       "   similar_movie_rating3  similar_movie_rating4  similar_movie_rating5  \\\n",
       "0                    3.0                    3.0                    3.0   \n",
       "1                    3.0                    4.0                    5.0   \n",
       "2                    5.0                    5.0                    5.0   \n",
       "3                    4.0                    3.0                    4.0   \n",
       "4                    5.0                    5.0                    5.0   \n",
       "\n",
       "   user_avg  movie_avg  rating  \n",
       "0    0.0604     0.0082       3  \n",
       "1    0.0456     0.0082       5  \n",
       "2    0.0248     0.0082       5  \n",
       "3    0.2026     0.0082       5  \n",
       "4    0.0092     0.0082       5  "
      ]
     },
     "execution_count": 49,
     "metadata": {},
     "output_type": "execute_result"
    }
   ],
   "source": [
    "reg_train = pd.read_csv('data/reg_train.csv', names = ['user', 'movie', 'global_avg', 'similar_user1', 'similar_user2', 'similar_user3', 'similar_user4', 'similar_user5','similar_movie_rating1', 'similar_movie_rating2', 'similar_movie_rating3', 'similar_movie_rating4', 'similar_movie_rating5', 'user_avg', 'movie_avg', 'rating'], header=None)\n",
    "reg_train.head()"
   ]
  },
  {
   "cell_type": "code",
   "execution_count": 50,
   "id": "fd4b3e24",
   "metadata": {},
   "outputs": [
    {
     "data": {
      "text/plain": [
       "(584337, 16)"
      ]
     },
     "execution_count": 50,
     "metadata": {},
     "output_type": "execute_result"
    }
   ],
   "source": [
    "reg_train.shape"
   ]
  },
  {
   "cell_type": "markdown",
   "id": "5ac3c1c7",
   "metadata": {},
   "source": [
    "The train dataset has 584337 rows and 16 features."
   ]
  },
  {
   "cell_type": "code",
   "execution_count": 51,
   "id": "c46620f7",
   "metadata": {},
   "outputs": [],
   "source": [
    "sample_test_users, sample_test_movies, sample_test_ratings = sparse.find(sample_test_sparse_matrix)"
   ]
  },
  {
   "cell_type": "code",
   "execution_count": 52,
   "id": "7fdcd63e",
   "metadata": {},
   "outputs": [
    {
     "name": "stdout",
     "output_type": "stream",
     "text": [
      "Preparing 7333 tuples for the dataset..\n",
      "\n",
      "Done for 1000 rows----- 0:00:01.444599\n",
      "Done for 2000 rows----- 0:00:02.877940\n",
      "Done for 3000 rows----- 0:00:04.344610\n",
      "Done for 4000 rows----- 0:00:05.827937\n",
      "Done for 5000 rows----- 0:00:07.277975\n",
      "Done for 6000 rows----- 0:00:08.744875\n",
      "Done for 7000 rows----- 0:00:10.177929\n",
      " 0:00:10.661312\n"
     ]
    }
   ],
   "source": [
    "# get users, movies and ratings from our samples test sparse matrix\n",
    "if os.path.isfile('data/reg_test.csv'):\n",
    "    print(\"File exists\")\n",
    "else:\n",
    "    start = datetime.now()\n",
    "    print(f\"Preparing {len(sample_test_ratings)} tuples for the dataset..\\n\")\n",
    "    with open('data/reg_test.csv', mode='w') as reg_data_file:\n",
    "        count = 0\n",
    "        for (user, movie, rating)  in zip(sample_test_users, sample_test_movies, sample_test_ratings):\n",
    "\n",
    "\n",
    "            try:\n",
    "                # compute the similar Users of the \"user\"\n",
    "                user_sim = cosine_similarity(sample_test_sparse_matrix[user], sample_test_sparse_matrix).ravel()\n",
    "                top_sim_users = user_sim.argsort()[::-1][1:] # we are ignoring 'The User' from its similar users.\n",
    "                # get the ratings of most similar users for this movie\n",
    "                top_ratings = sample_test_sparse_matrix[top_sim_users, movie].toarray().ravel()\n",
    "                # we will make it's length \"5\" by adding movie averages to .\n",
    "                top_sim_users_ratings = list(top_ratings[top_ratings != 0][:5])\n",
    "                top_sim_users_ratings.extend([sample_train_averages['movie'][movie]]*(5 - len(top_sim_users_ratings)))\n",
    "                # print(top_sim_users_ratings, end=\"--\")\n",
    "\n",
    "            except (IndexError, KeyError):\n",
    "                # It is a new User or new Movie or there are no ratings for given user for top similar movies...\n",
    "                ########## Cold STart Problem ##########\n",
    "                top_sim_users_ratings.extend([sample_train_averages['global']]*(5 - len(top_sim_users_ratings)))\n",
    "                #print(top_sim_users_ratings)\n",
    "            except:\n",
    "                print(user, movie)\n",
    "                # we just want KeyErrors to be resolved. Not every Exception...\n",
    "                raise\n",
    "\n",
    "\n",
    "\n",
    "            #--------------------- Ratings by \"user\"  to similar movies of \"movie\" ---------------------\n",
    "            try:\n",
    "                # compute the similar movies of the \"movie\"\n",
    "                movie_sim = cosine_similarity(sample_test_sparse_matrix[:,movie].T, sample_test_sparse_matrix.T).ravel()\n",
    "                top_sim_movies = movie_sim.argsort()[::-1][1:] # we are ignoring 'The User' from its similar users.\n",
    "                # get the ratings of most similar movie rated by this user..\n",
    "                top_ratings = sample_test_sparse_matrix[user, top_sim_movies].toarray().ravel()\n",
    "                # we will make it's length \"5\" by adding user averages to.\n",
    "                top_sim_movies_ratings = list(top_ratings[top_ratings != 0][:5])\n",
    "                top_sim_movies_ratings.extend([sample_train_averages['user'][user]]*(5-len(top_sim_movies_ratings)))\n",
    "                #print(top_sim_movies_ratings)\n",
    "            except (IndexError, KeyError):\n",
    "                #print(top_sim_movies_ratings, end=\" : -- \")\n",
    "                top_sim_movies_ratings.extend([sample_train_averages['global']]*(5-len(top_sim_movies_ratings)))\n",
    "                #print(top_sim_movies_ratings)\n",
    "            except :\n",
    "                raise\n",
    "\n",
    "            #-----------------prepare the row to be stores in a file-----------------#\n",
    "            row = list()\n",
    "            # add usser and movie name first\n",
    "            row.append(user)\n",
    "            row.append(movie)\n",
    "            row.append(sample_train_averages['global']) # first feature\n",
    "            #print(row)\n",
    "            # next 5 features are similar_users \"movie\" ratings\n",
    "            row.extend(top_sim_users_ratings)\n",
    "            #print(row)\n",
    "            # next 5 features are \"user\" ratings for similar_movies\n",
    "            row.extend(top_sim_movies_ratings)\n",
    "            #print(row)\n",
    "            # Avg_user rating\n",
    "            try:\n",
    "                row.append(sample_train_averages['user'][user])\n",
    "            except KeyError:\n",
    "                row.append(sample_train_averages['global'])\n",
    "            except:\n",
    "                raise\n",
    "            #print(row)\n",
    "            # Avg_movie rating\n",
    "            try:\n",
    "                row.append(sample_train_averages['movie'][movie])\n",
    "            except KeyError:\n",
    "                row.append(sample_train_averages['global'])\n",
    "            except:\n",
    "                raise\n",
    "            #print(row)\n",
    "            # finalley, The actual Rating of this user-movie pair...\n",
    "            row.append(rating)\n",
    "            #print(row)\n",
    "            count = count + 1\n",
    "\n",
    "            # add rows to the file opened..\n",
    "            reg_data_file.write(','.join(map(str, row)))\n",
    "            #print(','.join(map(str, row)))\n",
    "            reg_data_file.write('\\n')\n",
    "            if (count)%1000 == 0:\n",
    "                #print(','.join(map(str, row)))\n",
    "                print(\"Done for {} rows----- {}\".format(count, datetime.now() - start))\n",
    "    print(\"\",datetime.now() - start)"
   ]
  },
  {
   "cell_type": "code",
   "execution_count": 53,
   "id": "3a014ec1",
   "metadata": {},
   "outputs": [
    {
     "data": {
      "text/plain": [
       "4563"
      ]
     },
     "execution_count": 53,
     "metadata": {},
     "output_type": "execute_result"
    }
   ],
   "source": [
    "# cleanup unused variables\n",
    "del sample_test_sparse_matrix\n",
    "del sample_train_sparse_matrix\n",
    "\n",
    "import gc\n",
    "gc.collect()"
   ]
  },
  {
   "cell_type": "code",
   "execution_count": 54,
   "id": "f37ef534",
   "metadata": {},
   "outputs": [
    {
     "data": {
      "text/html": [
       "<div>\n",
       "<style scoped>\n",
       "    .dataframe tbody tr th:only-of-type {\n",
       "        vertical-align: middle;\n",
       "    }\n",
       "\n",
       "    .dataframe tbody tr th {\n",
       "        vertical-align: top;\n",
       "    }\n",
       "\n",
       "    .dataframe thead th {\n",
       "        text-align: right;\n",
       "    }\n",
       "</style>\n",
       "<table border=\"1\" class=\"dataframe\">\n",
       "  <thead>\n",
       "    <tr style=\"text-align: right;\">\n",
       "      <th></th>\n",
       "      <th>user</th>\n",
       "      <th>movie</th>\n",
       "      <th>global_avg</th>\n",
       "      <th>similar_user1</th>\n",
       "      <th>similar_user2</th>\n",
       "      <th>similar_user3</th>\n",
       "      <th>similar_user4</th>\n",
       "      <th>similar_user5</th>\n",
       "      <th>similar_movie_rating1</th>\n",
       "      <th>similar_movie_rating2</th>\n",
       "      <th>similar_movie_rating3</th>\n",
       "      <th>similar_movie_rating4</th>\n",
       "      <th>similar_movie_rating5</th>\n",
       "      <th>user_avg</th>\n",
       "      <th>movie_avg</th>\n",
       "      <th>rating</th>\n",
       "    </tr>\n",
       "  </thead>\n",
       "  <tbody>\n",
       "    <tr>\n",
       "      <th>0</th>\n",
       "      <td>1519</td>\n",
       "      <td>0</td>\n",
       "      <td>3.590777</td>\n",
       "      <td>4.0</td>\n",
       "      <td>5.0</td>\n",
       "      <td>4.0</td>\n",
       "      <td>0.0082</td>\n",
       "      <td>0.0082</td>\n",
       "      <td>0.0018</td>\n",
       "      <td>0.0018</td>\n",
       "      <td>0.0018</td>\n",
       "      <td>0.0018</td>\n",
       "      <td>0.0018</td>\n",
       "      <td>0.0018</td>\n",
       "      <td>0.0082</td>\n",
       "      <td>5</td>\n",
       "    </tr>\n",
       "    <tr>\n",
       "      <th>1</th>\n",
       "      <td>1791</td>\n",
       "      <td>0</td>\n",
       "      <td>3.590777</td>\n",
       "      <td>4.0</td>\n",
       "      <td>5.0</td>\n",
       "      <td>4.0</td>\n",
       "      <td>0.0082</td>\n",
       "      <td>0.0082</td>\n",
       "      <td>0.0510</td>\n",
       "      <td>0.0510</td>\n",
       "      <td>0.0510</td>\n",
       "      <td>0.0510</td>\n",
       "      <td>0.0510</td>\n",
       "      <td>0.0510</td>\n",
       "      <td>0.0082</td>\n",
       "      <td>4</td>\n",
       "    </tr>\n",
       "    <tr>\n",
       "      <th>2</th>\n",
       "      <td>3338</td>\n",
       "      <td>0</td>\n",
       "      <td>3.590777</td>\n",
       "      <td>4.0</td>\n",
       "      <td>5.0</td>\n",
       "      <td>4.0</td>\n",
       "      <td>0.0082</td>\n",
       "      <td>0.0082</td>\n",
       "      <td>0.0264</td>\n",
       "      <td>0.0264</td>\n",
       "      <td>0.0264</td>\n",
       "      <td>0.0264</td>\n",
       "      <td>0.0264</td>\n",
       "      <td>0.0264</td>\n",
       "      <td>0.0082</td>\n",
       "      <td>3</td>\n",
       "    </tr>\n",
       "    <tr>\n",
       "      <th>3</th>\n",
       "      <td>3568</td>\n",
       "      <td>0</td>\n",
       "      <td>3.590777</td>\n",
       "      <td>4.0</td>\n",
       "      <td>5.0</td>\n",
       "      <td>4.0</td>\n",
       "      <td>0.0082</td>\n",
       "      <td>0.0082</td>\n",
       "      <td>0.0374</td>\n",
       "      <td>0.0374</td>\n",
       "      <td>0.0374</td>\n",
       "      <td>0.0374</td>\n",
       "      <td>0.0374</td>\n",
       "      <td>0.0374</td>\n",
       "      <td>0.0082</td>\n",
       "      <td>4</td>\n",
       "    </tr>\n",
       "    <tr>\n",
       "      <th>4</th>\n",
       "      <td>57</td>\n",
       "      <td>1</td>\n",
       "      <td>3.590777</td>\n",
       "      <td>2.0</td>\n",
       "      <td>4.0</td>\n",
       "      <td>4.0</td>\n",
       "      <td>1.0000</td>\n",
       "      <td>3.0000</td>\n",
       "      <td>4.0000</td>\n",
       "      <td>0.0062</td>\n",
       "      <td>0.0062</td>\n",
       "      <td>0.0062</td>\n",
       "      <td>0.0062</td>\n",
       "      <td>0.0062</td>\n",
       "      <td>0.0026</td>\n",
       "      <td>1</td>\n",
       "    </tr>\n",
       "  </tbody>\n",
       "</table>\n",
       "</div>"
      ],
      "text/plain": [
       "   user  movie  global_avg  similar_user1  similar_user2  similar_user3  \\\n",
       "0  1519      0    3.590777            4.0            5.0            4.0   \n",
       "1  1791      0    3.590777            4.0            5.0            4.0   \n",
       "2  3338      0    3.590777            4.0            5.0            4.0   \n",
       "3  3568      0    3.590777            4.0            5.0            4.0   \n",
       "4    57      1    3.590777            2.0            4.0            4.0   \n",
       "\n",
       "   similar_user4  similar_user5  similar_movie_rating1  similar_movie_rating2  \\\n",
       "0         0.0082         0.0082                 0.0018                 0.0018   \n",
       "1         0.0082         0.0082                 0.0510                 0.0510   \n",
       "2         0.0082         0.0082                 0.0264                 0.0264   \n",
       "3         0.0082         0.0082                 0.0374                 0.0374   \n",
       "4         1.0000         3.0000                 4.0000                 0.0062   \n",
       "\n",
       "   similar_movie_rating3  similar_movie_rating4  similar_movie_rating5  \\\n",
       "0                 0.0018                 0.0018                 0.0018   \n",
       "1                 0.0510                 0.0510                 0.0510   \n",
       "2                 0.0264                 0.0264                 0.0264   \n",
       "3                 0.0374                 0.0374                 0.0374   \n",
       "4                 0.0062                 0.0062                 0.0062   \n",
       "\n",
       "   user_avg  movie_avg  rating  \n",
       "0    0.0018     0.0082       5  \n",
       "1    0.0510     0.0082       4  \n",
       "2    0.0264     0.0082       3  \n",
       "3    0.0374     0.0082       4  \n",
       "4    0.0062     0.0026       1  "
      ]
     },
     "execution_count": 54,
     "metadata": {},
     "output_type": "execute_result"
    }
   ],
   "source": [
    "reg_test = pd.read_csv('data/reg_test.csv', names = ['user', 'movie', 'global_avg', 'similar_user1', 'similar_user2', 'similar_user3', 'similar_user4', 'similar_user5','similar_movie_rating1', 'similar_movie_rating2', 'similar_movie_rating3', 'similar_movie_rating4', 'similar_movie_rating5', 'user_avg', 'movie_avg', 'rating'], header=None)\n",
    "reg_test.head()"
   ]
  },
  {
   "cell_type": "code",
   "execution_count": 55,
   "id": "5543f249",
   "metadata": {},
   "outputs": [
    {
     "data": {
      "text/plain": [
       "(7333, 16)"
      ]
     },
     "execution_count": 55,
     "metadata": {},
     "output_type": "execute_result"
    }
   ],
   "source": [
    "reg_test.shape"
   ]
  },
  {
   "cell_type": "markdown",
   "id": "b6d78186",
   "metadata": {},
   "source": [
    "#### Machine Learning Models."
   ]
  },
  {
   "cell_type": "markdown",
   "id": "65d62d6c",
   "metadata": {},
   "source": [
    "#### Considering the problem as a regression problem to calculate the ratinga given by the user for a movie."
   ]
  },
  {
   "cell_type": "code",
   "execution_count": 57,
   "id": "52a2f489",
   "metadata": {},
   "outputs": [],
   "source": [
    "# prepare Train data\n",
    "x_train = reg_train.drop(['user','movie','rating'], axis=1)\n",
    "y_train = reg_train['rating']\n",
    "\n",
    "# Prepare Test data\n",
    "x_test = reg_test.drop(['user','movie','rating'], axis=1)\n",
    "y_test = reg_test['rating']"
   ]
  },
  {
   "cell_type": "markdown",
   "id": "828fee45",
   "metadata": {},
   "source": [
    "#### Xgboost Regressor"
   ]
  },
  {
   "cell_type": "markdown",
   "id": "229304e6",
   "metadata": {},
   "source": [
    "Hyperparameter tuning to get best fit parameters."
   ]
  },
  {
   "cell_type": "code",
   "execution_count": null,
   "id": "6cecfe3c",
   "metadata": {},
   "outputs": [
    {
     "name": "stdout",
     "output_type": "stream",
     "text": [
      "Fitting 5 folds for each of 192 candidates, totalling 960 fits\n"
     ]
    },
    {
     "name": "stderr",
     "output_type": "stream",
     "text": [
      "c:\\ProgramData\\anaconda3\\lib\\site-packages\\sklearn\\model_selection\\_validation.py:378: FitFailedWarning: \n",
      "11 fits failed out of a total of 960.\n",
      "The score on these train-test partitions for these parameters will be set to nan.\n",
      "If these failures are not expected, you can try to debug them by setting error_score='raise'.\n",
      "\n",
      "Below are more details about the failures:\n",
      "--------------------------------------------------------------------------------\n",
      "8 fits failed with the following error:\n",
      "Traceback (most recent call last):\n",
      "  File \"c:\\ProgramData\\anaconda3\\lib\\site-packages\\sklearn\\model_selection\\_validation.py\", line 686, in _fit_and_score\n",
      "    estimator.fit(X_train, y_train, **fit_params)\n",
      "  File \"C:\\Users\\User\\AppData\\Roaming\\Python\\Python310\\site-packages\\xgboost\\core.py\", line 726, in inner_f\n",
      "    return func(**kwargs)\n",
      "  File \"C:\\Users\\User\\AppData\\Roaming\\Python\\Python310\\site-packages\\xgboost\\sklearn.py\", line 1081, in fit\n",
      "    train_dmatrix, evals = _wrap_evaluation_matrices(\n",
      "  File \"C:\\Users\\User\\AppData\\Roaming\\Python\\Python310\\site-packages\\xgboost\\sklearn.py\", line 596, in _wrap_evaluation_matrices\n",
      "    train_dmatrix = create_dmatrix(\n",
      "  File \"C:\\Users\\User\\AppData\\Roaming\\Python\\Python310\\site-packages\\xgboost\\sklearn.py\", line 1003, in _create_dmatrix\n",
      "    return QuantileDMatrix(\n",
      "  File \"C:\\Users\\User\\AppData\\Roaming\\Python\\Python310\\site-packages\\xgboost\\core.py\", line 726, in inner_f\n",
      "    return func(**kwargs)\n",
      "  File \"C:\\Users\\User\\AppData\\Roaming\\Python\\Python310\\site-packages\\xgboost\\core.py\", line 1573, in __init__\n",
      "    self._init(\n",
      "  File \"C:\\Users\\User\\AppData\\Roaming\\Python\\Python310\\site-packages\\xgboost\\core.py\", line 1632, in _init\n",
      "    it.reraise()\n",
      "  File \"C:\\Users\\User\\AppData\\Roaming\\Python\\Python310\\site-packages\\xgboost\\core.py\", line 569, in reraise\n",
      "    raise exc  # pylint: disable=raising-bad-type\n",
      "  File \"C:\\Users\\User\\AppData\\Roaming\\Python\\Python310\\site-packages\\xgboost\\core.py\", line 550, in _handle_exception\n",
      "    return fn()\n",
      "  File \"C:\\Users\\User\\AppData\\Roaming\\Python\\Python310\\site-packages\\xgboost\\core.py\", line 637, in <lambda>\n",
      "    return self._handle_exception(lambda: self.next(input_data), 0)\n",
      "  File \"C:\\Users\\User\\AppData\\Roaming\\Python\\Python310\\site-packages\\xgboost\\data.py\", line 1416, in next\n",
      "    input_data(**self.kwargs)\n",
      "  File \"C:\\Users\\User\\AppData\\Roaming\\Python\\Python310\\site-packages\\xgboost\\core.py\", line 726, in inner_f\n",
      "    return func(**kwargs)\n",
      "  File \"C:\\Users\\User\\AppData\\Roaming\\Python\\Python310\\site-packages\\xgboost\\core.py\", line 626, in input_data\n",
      "    self.proxy.set_info(\n",
      "  File \"C:\\Users\\User\\AppData\\Roaming\\Python\\Python310\\site-packages\\xgboost\\core.py\", line 726, in inner_f\n",
      "    return func(**kwargs)\n",
      "  File \"C:\\Users\\User\\AppData\\Roaming\\Python\\Python310\\site-packages\\xgboost\\core.py\", line 954, in set_info\n",
      "    self.set_label(label)\n",
      "  File \"C:\\Users\\User\\AppData\\Roaming\\Python\\Python310\\site-packages\\xgboost\\core.py\", line 1092, in set_label\n",
      "    dispatch_meta_backend(self, label, \"label\", \"float\")\n",
      "  File \"C:\\Users\\User\\AppData\\Roaming\\Python\\Python310\\site-packages\\xgboost\\data.py\", line 1362, in dispatch_meta_backend\n",
      "    _meta_from_pandas_series(data, name, dtype, handle)\n",
      "  File \"C:\\Users\\User\\AppData\\Roaming\\Python\\Python310\\site-packages\\xgboost\\data.py\", line 679, in _meta_from_pandas_series\n",
      "    _meta_from_numpy(data, name, dtype, handle)\n",
      "  File \"C:\\Users\\User\\AppData\\Roaming\\Python\\Python310\\site-packages\\xgboost\\data.py\", line 1295, in _meta_from_numpy\n",
      "    _check_call(_LIB.XGDMatrixSetInfoFromInterface(handle, c_str(field), interface_str))\n",
      "  File \"C:\\Users\\User\\AppData\\Roaming\\Python\\Python310\\site-packages\\xgboost\\core.py\", line 284, in _check_call\n",
      "    raise XGBoostError(py_str(_LIB.XGBGetLastError()))\n",
      "xgboost.core.XGBoostError: [04:51:48] C:\\buildkite-agent\\builds\\buildkite-windows-cpu-autoscaling-group-i-0015a694724fa8361-1\\xgboost\\xgboost-ci-windows\\src\\data\\array_interface.cu:44: Check failed: err == cudaGetLastError() (0 vs. 46) : \n",
      "\n",
      "--------------------------------------------------------------------------------\n",
      "3 fits failed with the following error:\n",
      "Traceback (most recent call last):\n",
      "  File \"c:\\ProgramData\\anaconda3\\lib\\site-packages\\sklearn\\model_selection\\_validation.py\", line 686, in _fit_and_score\n",
      "    estimator.fit(X_train, y_train, **fit_params)\n",
      "  File \"C:\\Users\\User\\AppData\\Roaming\\Python\\Python310\\site-packages\\xgboost\\core.py\", line 726, in inner_f\n",
      "    return func(**kwargs)\n",
      "  File \"C:\\Users\\User\\AppData\\Roaming\\Python\\Python310\\site-packages\\xgboost\\sklearn.py\", line 1081, in fit\n",
      "    train_dmatrix, evals = _wrap_evaluation_matrices(\n",
      "  File \"C:\\Users\\User\\AppData\\Roaming\\Python\\Python310\\site-packages\\xgboost\\sklearn.py\", line 596, in _wrap_evaluation_matrices\n",
      "    train_dmatrix = create_dmatrix(\n",
      "  File \"C:\\Users\\User\\AppData\\Roaming\\Python\\Python310\\site-packages\\xgboost\\sklearn.py\", line 1003, in _create_dmatrix\n",
      "    return QuantileDMatrix(\n",
      "  File \"C:\\Users\\User\\AppData\\Roaming\\Python\\Python310\\site-packages\\xgboost\\core.py\", line 726, in inner_f\n",
      "    return func(**kwargs)\n",
      "  File \"C:\\Users\\User\\AppData\\Roaming\\Python\\Python310\\site-packages\\xgboost\\core.py\", line 1573, in __init__\n",
      "    self._init(\n",
      "  File \"C:\\Users\\User\\AppData\\Roaming\\Python\\Python310\\site-packages\\xgboost\\core.py\", line 1632, in _init\n",
      "    it.reraise()\n",
      "  File \"C:\\Users\\User\\AppData\\Roaming\\Python\\Python310\\site-packages\\xgboost\\core.py\", line 569, in reraise\n",
      "    raise exc  # pylint: disable=raising-bad-type\n",
      "  File \"C:\\Users\\User\\AppData\\Roaming\\Python\\Python310\\site-packages\\xgboost\\core.py\", line 550, in _handle_exception\n",
      "    return fn()\n",
      "  File \"C:\\Users\\User\\AppData\\Roaming\\Python\\Python310\\site-packages\\xgboost\\core.py\", line 637, in <lambda>\n",
      "    return self._handle_exception(lambda: self.next(input_data), 0)\n",
      "  File \"C:\\Users\\User\\AppData\\Roaming\\Python\\Python310\\site-packages\\xgboost\\data.py\", line 1416, in next\n",
      "    input_data(**self.kwargs)\n",
      "  File \"C:\\Users\\User\\AppData\\Roaming\\Python\\Python310\\site-packages\\xgboost\\core.py\", line 726, in inner_f\n",
      "    return func(**kwargs)\n",
      "  File \"C:\\Users\\User\\AppData\\Roaming\\Python\\Python310\\site-packages\\xgboost\\core.py\", line 626, in input_data\n",
      "    self.proxy.set_info(\n",
      "  File \"C:\\Users\\User\\AppData\\Roaming\\Python\\Python310\\site-packages\\xgboost\\core.py\", line 726, in inner_f\n",
      "    return func(**kwargs)\n",
      "  File \"C:\\Users\\User\\AppData\\Roaming\\Python\\Python310\\site-packages\\xgboost\\core.py\", line 954, in set_info\n",
      "    self.set_label(label)\n",
      "  File \"C:\\Users\\User\\AppData\\Roaming\\Python\\Python310\\site-packages\\xgboost\\core.py\", line 1092, in set_label\n",
      "    dispatch_meta_backend(self, label, \"label\", \"float\")\n",
      "  File \"C:\\Users\\User\\AppData\\Roaming\\Python\\Python310\\site-packages\\xgboost\\data.py\", line 1362, in dispatch_meta_backend\n",
      "    _meta_from_pandas_series(data, name, dtype, handle)\n",
      "  File \"C:\\Users\\User\\AppData\\Roaming\\Python\\Python310\\site-packages\\xgboost\\data.py\", line 679, in _meta_from_pandas_series\n",
      "    _meta_from_numpy(data, name, dtype, handle)\n",
      "  File \"C:\\Users\\User\\AppData\\Roaming\\Python\\Python310\\site-packages\\xgboost\\data.py\", line 1295, in _meta_from_numpy\n",
      "    _check_call(_LIB.XGDMatrixSetInfoFromInterface(handle, c_str(field), interface_str))\n",
      "  File \"C:\\Users\\User\\AppData\\Roaming\\Python\\Python310\\site-packages\\xgboost\\core.py\", line 284, in _check_call\n",
      "    raise XGBoostError(py_str(_LIB.XGBGetLastError()))\n",
      "xgboost.core.XGBoostError: [04:51:47] C:\\buildkite-agent\\builds\\buildkite-windows-cpu-autoscaling-group-i-0015a694724fa8361-1\\xgboost\\xgboost-ci-windows\\src\\data\\array_interface.cu:44: Check failed: err == cudaGetLastError() (0 vs. 46) : \n",
      "\n",
      "  warnings.warn(some_fits_failed_message, FitFailedWarning)\n",
      "c:\\ProgramData\\anaconda3\\lib\\site-packages\\sklearn\\model_selection\\_search.py:952: UserWarning: One or more of the test scores are non-finite: [        nan         nan         nan         nan         nan         nan\n",
      "         nan -0.85482657 -0.85484094 -0.85484098 -0.85482498 -0.85482168\n",
      " -0.85484784 -0.85484787 -0.85484817 -0.85484342 -0.80615012 -0.80614205\n",
      " -0.80613743 -0.8061437  -0.80615363 -0.80615367 -0.80613752 -0.80614725\n",
      " -0.80615349 -0.80615352 -0.80614915 -0.80613162 -0.80615314 -0.80615318\n",
      " -0.80615361 -0.80613742 -0.79374184 -0.79374554 -0.79374811 -0.79374598\n",
      " -0.79375024 -0.79375034 -0.79375117 -0.79374345 -0.79373878 -0.7937373\n",
      " -0.79374533 -0.79375899 -0.79374961 -0.79374965 -0.79375732 -0.79373762\n",
      " -0.82426258 -0.82426273 -0.82426176 -0.82431616 -0.82425277 -0.8242529\n",
      " -0.82427177 -0.82431175 -0.82427681 -0.82427595 -0.82426929 -0.82430506\n",
      " -0.8242915  -0.82429805 -0.82428507 -0.8243075  -0.79186628 -0.79187428\n",
      " -0.79186676 -0.7919413  -0.79187849 -0.79187739 -0.79184164 -0.79194605\n",
      " -0.79188259 -0.79186794 -0.79187365 -0.79193012 -0.79193941 -0.79192804\n",
      " -0.79190916 -0.79193979 -0.78482006 -0.78478769 -0.78480859 -0.7848441\n",
      " -0.7848145  -0.7847761  -0.78476592 -0.78484778 -0.7847932  -0.78471697\n",
      " -0.78475112 -0.78481046 -0.78485323 -0.78484152 -0.78482907 -0.78487703\n",
      " -0.78293796 -0.78294674 -0.78296904 -0.78284395 -0.7829376  -0.78291416\n",
      " -0.78297606 -0.78290991 -0.78297095 -0.78297132 -0.78292139 -0.78295208\n",
      " -0.78291943 -0.78289239 -0.78311001 -0.78291535 -0.78003117 -0.77995044\n",
      " -0.78006292 -0.77993573 -0.77985007 -0.77991272 -0.77988317 -0.77985181\n",
      " -0.77991286 -0.77978248 -0.77981118 -0.779895   -0.77995082 -0.77988737\n",
      " -0.78003788 -0.78000508 -0.77827583 -0.77826757 -0.77833804 -0.77827582\n",
      " -0.7781149  -0.7780913  -0.77822703 -0.77822032 -0.7782684  -0.77818981\n",
      " -0.77806109 -0.77820562 -0.77824581 -0.77812845 -0.77820245 -0.77830202\n",
      " -0.7780634  -0.77802093 -0.77836908 -0.77826586 -0.77799077 -0.77793717\n",
      " -0.77844392 -0.77825789 -0.77830864 -0.77808448 -0.77826828 -0.77830023\n",
      " -0.77828233 -0.7782617  -0.77819725 -0.77836151 -0.77626946 -0.77614507\n",
      " -0.77639217 -0.77636429 -0.77620909 -0.77649489 -0.77623018 -0.77627223\n",
      " -0.77632514 -0.77632772 -0.77642186 -0.77624109 -0.77626285 -0.7764283\n",
      " -0.77654668 -0.77609273 -0.7767311  -0.7767708  -0.77671276 -0.77663857\n",
      " -0.77674156 -0.77695822 -0.77682697 -0.77675619 -0.77662727 -0.77669919\n",
      " -0.7769975  -0.77655144 -0.77661352 -0.77700425 -0.7768354  -0.7764399 ]\n",
      "  warnings.warn(\n"
     ]
    },
    {
     "name": "stdout",
     "output_type": "stream",
     "text": [
      "Best Parameters: {'learning_rate': 0.1, 'max_depth': 5, 'n_estimators': 400, 'reg_alpha': 1, 'reg_lambda': 1}\n",
      "Best Score: -0.7760927301203798\n"
     ]
    }
   ],
   "source": [
    "# train xgb regressor with grid search hyperparameter tuning\n",
    "\n",
    "\n",
    "# Define the parameter grid\n",
    "param_grid = {\n",
    "    'max_depth': [3, 5],\n",
    "    'learning_rate': [0.01, 0.1],\n",
    "    'n_estimators': [200, 400, 600],\n",
    "    'reg_alpha': [0, 0.01, 0.1, 1],     \n",
    "    'reg_lambda': [0, 0.01, 0.1, 1] \n",
    "}\n",
    "\n",
    "# Create the XGBoost regressor\n",
    "xgb_regressor = xgb.XGBRegressor(objective='reg:squarederror', random_state=42)\n",
    "\n",
    "grid_search = GridSearchCV(estimator=xgb_regressor, param_grid=param_grid,\n",
    "                           scoring='neg_mean_squared_error',cv=5, verbose=1, n_jobs=-1)\n",
    "# Fit the model\n",
    "grid_search.fit(x_train, y_train)\n",
    "# Get the best parameters and best score\n",
    "best_params = grid_search.best_params_\n",
    "best_score = grid_search.best_score_\n",
    "print(f\"Best Parameters: {best_params}\")\n",
    "print(f\"Best Score: {best_score}\")"
   ]
  },
  {
   "cell_type": "code",
   "execution_count": 59,
   "id": "e987e510",
   "metadata": {},
   "outputs": [
    {
     "name": "stdout",
     "output_type": "stream",
     "text": [
      "Train Data Eval                                   \n",
      "Train Mean Squared Error: 0.7552013910868418\n",
      "Train Mean Absolute Percentage Error: 0.25868122369470514\n",
      "Train R^2 Score: 0.346583376370838\n",
      "####################################################################################################\n",
      "Test Data Eval                                    \n",
      "Mean Squared Error: 4.947256715269392\n",
      "Mean Absolute Percentage Error: 0.6100859280189657\n",
      "R^2 Score: -3.279730753839872\n"
     ]
    },
    {
     "data": {
      "text/plain": [
       "<Figure size 1000x600 with 0 Axes>"
      ]
     },
     "metadata": {},
     "output_type": "display_data"
    },
    {
     "data": {
      "image/png": "[encoded data removed]",
      "text/plain": [
       "<Figure size 640x480 with 1 Axes>"
      ]
     },
     "metadata": {},
     "output_type": "display_data"
    }
   ],
   "source": [
    "# Train the model with the best parameters\n",
    "best_model = xgb.XGBRegressor(**best_params, objective='reg:squarederror', random_state=42)\n",
    "best_model.fit(x_train, y_train)\n",
    "\n",
    "# Evaluate the model on the train data\n",
    "y_train_pred = best_model.predict(x_train)\n",
    "\n",
    "mse_train = mean_squared_error(y_train, y_train_pred)\n",
    "mape_train = mean_absolute_percentage_error(y_train, y_train_pred)\n",
    "r2_train = r2_score(y_train, y_train_pred)\n",
    "print(\"Train Data Eval\".ljust(50, ' '))\n",
    "print(f\"Train Mean Squared Error: {mse_train}\")\n",
    "print(f\"Train Mean Absolute Percentage Error: {mape_train}\")\n",
    "print(f\"Train R^2 Score: {r2_train}\")\n",
    "\n",
    "# Evaluate the model on the test data\n",
    "y_test_pred = best_model.predict(x_test)\n",
    "\n",
    "mse_test = mean_squared_error(y_test, y_test_pred)\n",
    "mape_test = mean_absolute_percentage_error(y_test, y_test_pred)\n",
    "r2_test = r2_score(y_test, y_test_pred) \n",
    "print(\"#\"*100)  \n",
    "print(\"Test Data Eval\".ljust(50, ' '))\n",
    "print(f\"Mean Squared Error: {mse_test}\")\n",
    "print(f\"Mean Absolute Percentage Error: {mape_test}\")\n",
    "print(f\"R^2 Score: {r2_test}\")\n",
    "\n",
    "# Plot feature importance\n",
    "plt.figure(figsize=(10, 6))\n",
    "xgb.plot_importance(best_model, importance_type='weight')\n",
    "plt.title('Feature Importance')\n",
    "plt.xlabel('F score')\n",
    "plt.ylabel('Features')\n",
    "plt.show();"
   ]
  },
  {
   "cell_type": "markdown",
   "id": "fd4077dc",
   "metadata": {},
   "source": [
    "**Observation:**\n",
    "\n",
    "1. The model is overfit. It seems to do reasonably well on the training data but performs worse than a mean model (R2_score < 0) on the test dataset.\n",
    "2. The model overfits even after regularization, suggesting that the sample we have taken is not enough.\n",
    "3. The features movie_avg, user_avg, similar_movie_rating1 and similar_user1 contribute significantly to the prediction."
   ]
  },
  {
   "cell_type": "code",
   "execution_count": 60,
   "id": "0c477acd",
   "metadata": {},
   "outputs": [],
   "source": [
    "# Save the model\n",
    "best_model.save_model('xgb_model.json')"
   ]
  },
  {
   "cell_type": "markdown",
   "id": "79693fbe",
   "metadata": {},
   "source": [
    "#### Catboost Regressor"
   ]
  },
  {
   "cell_type": "code",
   "execution_count": 61,
   "id": "05810075",
   "metadata": {},
   "outputs": [
    {
     "name": "stdout",
     "output_type": "stream",
     "text": [
      "Fitting 3 folds for each of 144 candidates, totalling 432 fits\n",
      "Best Parameters: {'bagging_temperature': 0, 'depth': 6, 'iterations': 400, 'l2_leaf_reg': 1, 'learning_rate': 0.1, 'random_strength': 0.5}\n",
      "Best Score: -0.7747852192730749\n"
     ]
    }
   ],
   "source": [
    "# train catboost regressor with grid search hyperparameter tuning\n",
    "from catboost import CatBoostRegressor\n",
    "from sklearn.model_selection import GridSearchCV\n",
    "from sklearn.metrics import r2_score, mean_squared_error, mean_absolute_percentage_error\n",
    "\n",
    "# Define the parameter grid\n",
    "param_grid = {\n",
    "    'depth': [4, 6],\n",
    "    'learning_rate': [0.01, 0.1],\n",
    "    'iterations': [200, 400],\n",
    "    'l2_leaf_reg': [1, 3, 5],\n",
    "    'bagging_temperature': [0, 0.5, 1],\n",
    "    'random_strength': [0.5, 1]\n",
    "\n",
    "}\n",
    "\n",
    "# Create the CatBoost regressor\n",
    "catboost_model = CatBoostRegressor(iterations=1000, learning_rate=0.1, early_stopping_rounds=50, depth=4, loss_function='RMSE', verbose=0)\n",
    "# Create the GridSearchCV object\n",
    "grid_search = GridSearchCV(estimator=catboost_model, param_grid=param_grid,\n",
    "                           scoring='neg_mean_squared_error', cv=3, verbose=1, n_jobs=-1)\n",
    "# Fit the model\n",
    "grid_search.fit(x_train, y_train)\n",
    "# Get the best parameters and best score\n",
    "best_params = grid_search.best_params_\n",
    "best_score = grid_search.best_score_\n",
    "print(f\"Best Parameters: {best_params}\")\n",
    "print(f\"Best Score: {best_score}\")\n",
    "           "
   ]
  },
  {
   "cell_type": "code",
   "execution_count": 62,
   "id": "f3ecafa5",
   "metadata": {},
   "outputs": [
    {
     "name": "stdout",
     "output_type": "stream",
     "text": [
      "Train Data Eval                                   \n",
      "Train Mean Squared Error: 0.7631443485621949\n",
      "Train Mean Absolute Percentage Error: 0.26110895883351304\n",
      "Train R^2 Score: 0.3397109572831216\n",
      "####################################################################################################\n",
      "Test Data Eval                                    \n",
      "Mean Squared Error: 2.565439549366953\n",
      "Mean Absolute Percentage Error: 0.45616987556773797\n",
      "R^2 Score: -1.2192886216427103\n",
      "                  Feature  Importance\n",
      "6   similar_movie_rating1   19.326119\n",
      "7   similar_movie_rating2   12.099974\n",
      "8   similar_movie_rating3    9.544416\n",
      "1           similar_user1    9.239324\n",
      "2           similar_user2    7.680134\n",
      "5           similar_user5    7.508007\n",
      "10  similar_movie_rating5    7.299461\n",
      "9   similar_movie_rating4    7.030550\n",
      "3           similar_user3    6.852687\n",
      "4           similar_user4    6.719758\n",
      "12              movie_avg    4.054096\n",
      "11               user_avg    2.645475\n",
      "0              global_avg    0.000000\n"
     ]
    }
   ],
   "source": [
    "# Train the model with the best parameters\n",
    "best_model = CatBoostRegressor(**best_params, loss_function='RMSE', verbose=0)\n",
    "best_model.fit(x_train, y_train)\n",
    "\n",
    "# Evaluate the model on the train data\n",
    "y_train_pred = best_model.predict(x_train)\n",
    "mse_train = mean_squared_error(y_train, y_train_pred)\n",
    "mape_train = mean_absolute_percentage_error(y_train, y_train_pred)\n",
    "r2_train = r2_score(y_train, y_train_pred)\n",
    "print(\"Train Data Eval\".ljust(50, ' '))\n",
    "print(f\"Train Mean Squared Error: {mse_train}\")\n",
    "print(f\"Train Mean Absolute Percentage Error: {mape_train}\")\n",
    "print(f\"Train R^2 Score: {r2_train}\")\n",
    "\n",
    "# Evaluate the model on the test data\n",
    "y_test_pred = best_model.predict(x_test)\n",
    "mse_test = mean_squared_error(y_test, y_test_pred)\n",
    "mape_test = mean_absolute_percentage_error(y_test, y_test_pred)\n",
    "r2_test = r2_score(y_test, y_test_pred)\n",
    "print(\"#\"*100)\n",
    "print(\"Test Data Eval\".ljust(50, ' '))\n",
    "print(f\"Mean Squared Error: {mse_test}\")\n",
    "print(f\"Mean Absolute Percentage Error: {mape_test}\")\n",
    "print(f\"R^2 Score: {r2_test}\")\n",
    "\n",
    "# Plot feature importance\n",
    "importances = best_model.get_feature_importance(type='PredictionValuesChange')\n",
    "importance_df = pd.DataFrame({\n",
    "    'Feature': x_train.columns,\n",
    "    'Importance': importances\n",
    "}).sort_values(by='Importance', ascending=False)\n",
    "\n",
    "print(importance_df)"
   ]
  },
  {
   "cell_type": "markdown",
   "id": "244336ea",
   "metadata": {},
   "source": [
    "**Observation:**\n",
    "\n",
    "1. The catboost model also overfits.\n",
    "2. The model seems to be doing slightly better than the Xgboost regressor.\n",
    "3. The important features have changed compared to that of the xgboost model. The model gives more weightage to the top 3 similar movie ratings followed by the simialr user ratings. \n"
   ]
  },
  {
   "cell_type": "markdown",
   "id": "80362322",
   "metadata": {},
   "source": [
    "#### Neural Network models"
   ]
  },
  {
   "cell_type": "code",
   "execution_count": 63,
   "id": "cc86e0da",
   "metadata": {},
   "outputs": [],
   "source": [
    "# Scale\n",
    "scaler = StandardScaler()\n",
    "x_train = scaler.fit_transform(x_train)\n",
    "x_test = scaler.transform(x_test)"
   ]
  },
  {
   "cell_type": "code",
   "execution_count": 64,
   "id": "7f470b72",
   "metadata": {},
   "outputs": [],
   "source": [
    "# Convert to tensors\n",
    "train_dataset = TensorDataset(torch.tensor(x_train, dtype=torch.float32),\n",
    "                              torch.tensor(y_train, dtype=torch.float32))\n",
    "test_dataset = TensorDataset(torch.tensor(x_test, dtype=torch.float32),\n",
    "                             torch.tensor(y_test, dtype=torch.float32))\n",
    "\n",
    "train_loader = DataLoader(train_dataset, batch_size=64, shuffle=True)\n",
    "test_loader = DataLoader(test_dataset, batch_size=64)"
   ]
  },
  {
   "cell_type": "code",
   "execution_count": null,
   "id": "3c6faab6",
   "metadata": {},
   "outputs": [],
   "source": [
    "# Creating a Neural Network Model\n",
    "# Updated the model to initialize weights to converge faster\n",
    "\n",
    "class MLPRegressor(nn.Module):\n",
    "    def __init__(self, input_dim):\n",
    "        super(MLPRegressor, self).__init__()\n",
    "        \n",
    "        self.model = nn.Sequential(\n",
    "            nn.Linear(input_dim, 256),\n",
    "            nn.BatchNorm1d(256),\n",
    "            nn.ReLU(),\n",
    "            nn.Dropout(0.1), \n",
    "\n",
    "            nn.Linear(256, 128),\n",
    "            nn.BatchNorm1d(128),\n",
    "            nn.ReLU(),\n",
    "            nn.Dropout(0.05),\n",
    "\n",
    "            nn.Linear(128, 64),\n",
    "            nn.ReLU(),\n",
    "\n",
    "            nn.Linear(64, 1)  \n",
    "        )\n",
    "\n",
    "        self._initialize_weights()\n",
    "\n",
    "    def forward(self, x):\n",
    "        return self.model(x)\n",
    "\n",
    "    # Added a method to initialize weights to coverge faster\n",
    "    def _initialize_weights(self):\n",
    "        for layer in self.model:\n",
    "            if isinstance(layer, nn.Linear):\n",
    "                nn.init.kaiming_uniform_(layer.weight, nonlinearity='relu')\n",
    "                nn.init.zeros_(layer.bias)\n"
   ]
  },
  {
   "cell_type": "code",
   "execution_count": 66,
   "id": "7fe96bfe",
   "metadata": {},
   "outputs": [
    {
     "name": "stdout",
     "output_type": "stream",
     "text": [
      "Epoch 10, Train MSE: 0.7937\n",
      "Epoch 20, Train MSE: 0.7913\n",
      "Epoch 30, Train MSE: 0.7896\n",
      "Epoch 40, Train MSE: 0.7877\n",
      "Epoch 50, Train MSE: 0.7861\n",
      "Epoch 60, Train MSE: 0.7850\n",
      "Epoch 70, Train MSE: 0.7842\n",
      "Epoch 80, Train MSE: 0.7832\n",
      "Epoch 90, Train MSE: 0.7820\n",
      "Epoch 100, Train MSE: 0.7816\n"
     ]
    }
   ],
   "source": [
    "device = torch.device(\"cuda\" if torch.cuda.is_available() else \"cpu\")\n",
    "model = MLPRegressor(x_train.shape[1]).to(device)\n",
    "\n",
    "criterion = nn.MSELoss()\n",
    "optimizer = torch.optim.Adam(model.parameters(), lr=0.001)\n",
    "\n",
    "# Training loop\n",
    "for epoch in range(100):\n",
    "    model.train()\n",
    "    total_loss = 0\n",
    "    for xb, yb in train_loader:\n",
    "        xb, yb = xb.to(device), yb.to(device)\n",
    "        pred = model(xb)\n",
    "        loss = criterion(pred.squeeze(), yb)\n",
    "        optimizer.zero_grad()\n",
    "        loss.backward()\n",
    "        optimizer.step()\n",
    "        total_loss += loss.item()\n",
    "\n",
    "    if (epoch + 1) % 10 == 0:\n",
    "        print(f\"Epoch {epoch+1}, Train MSE: {total_loss / len(train_loader):.4f}\")\n"
   ]
  },
  {
   "cell_type": "code",
   "execution_count": 67,
   "id": "b5e5e4e6",
   "metadata": {},
   "outputs": [
    {
     "name": "stdout",
     "output_type": "stream",
     "text": [
      "Test MSE: 1.0973237\n",
      "Test MAE: 0.2996615\n",
      "Test R^2: 0.050736584013227226\n"
     ]
    }
   ],
   "source": [
    "model.eval()\n",
    "with torch.no_grad():\n",
    "    preds, actuals = [], []\n",
    "    for xb, yb in test_loader:\n",
    "        xb = xb.to(device)\n",
    "        pred = model(xb).cpu().numpy()\n",
    "        preds.append(pred)\n",
    "        actuals.append(yb.numpy())\n",
    "\n",
    "preds = np.concatenate(preds).flatten()\n",
    "actuals = np.concatenate(actuals).flatten()\n",
    "\n",
    "print(\"Test MSE:\", mean_squared_error(actuals, preds))\n",
    "print(\"Test MAE:\", mean_absolute_percentage_error(actuals, preds))\n",
    "print(\"Test R^2:\", r2_score(actuals, preds))"
   ]
  },
  {
   "cell_type": "code",
   "execution_count": 68,
   "id": "4da90f15",
   "metadata": {},
   "outputs": [
    {
     "data": {
      "image/png": "[encoded data removed]",
      "text/plain": [
       "<Figure size 1000x600 with 1 Axes>"
      ]
     },
     "metadata": {},
     "output_type": "display_data"
    }
   ],
   "source": [
    "\n",
    "# Plotting the predictions vs actual values\n",
    "plt.figure(figsize=(10, 6))\n",
    "plt.scatter(actuals, preds, alpha=0.5)\n",
    "plt.plot([actuals.min(), actuals.max()], [actuals.min(), actuals.max()], 'r--')\n",
    "plt.xlabel('Actual Ratings')\n",
    "plt.ylabel('Predicted Ratings')\n",
    "plt.title('Predicted vs Actual Ratings')\n",
    "plt.show()"
   ]
  },
  {
   "cell_type": "markdown",
   "id": "23a5eb0f",
   "metadata": {},
   "source": [
    "### **Conclusion**\n",
    "\n",
    "1. The Neural Network model is the best performing model compared to the xgbregressor and catboostregressor as it generalizes better. and also is the only model that has a positive r2_score.\n",
    "2. The models could improve significantly if it was trained on the entire dataet.\n",
    "3. The NN model perfomrance can be improved by changing the activation function, optimizer, early stopping, etc."
   ]
  },
  {
   "cell_type": "code",
   "execution_count": null,
   "id": "79e1add1",
   "metadata": {},
   "outputs": [],
   "source": []
  },
  {
   "cell_type": "code",
   "execution_count": null,
   "id": "05790183",
   "metadata": {},
   "outputs": [],
   "source": []
  },
  {
   "cell_type": "code",
   "execution_count": null,
   "id": "23ae21ee",
   "metadata": {},
   "outputs": [],
   "source": []
  },
  {
   "cell_type": "code",
   "execution_count": null,
   "id": "daf1f02d",
   "metadata": {},
   "outputs": [],
   "source": []
  },
  {
   "cell_type": "code",
   "execution_count": null,
   "id": "305e9cf0",
   "metadata": {},
   "outputs": [],
   "source": []
  }
 ],
 "metadata": {
  "kernelspec": {
   "display_name": "base",
   "language": "python",
   "name": "python3"
  },
  "language_info": {
   "codemirror_mode": {
    "name": "ipython",
    "version": 3
   },
   "file_extension": ".py",
   "mimetype": "text/x-python",
   "name": "python",
   "nbconvert_exporter": "python",
   "pygments_lexer": "ipython3",
   "version": "3.10.9"
  }
 },
 "nbformat": 4,
 "nbformat_minor": 5
}
